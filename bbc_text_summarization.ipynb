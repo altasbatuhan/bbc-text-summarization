{
 "cells": [
  {
   "cell_type": "code",
   "execution_count": 4,
   "id": "7a4e7433",
   "metadata": {},
   "outputs": [],
   "source": [
    "import numpy as np \n",
    "import pandas as pd \n",
    "import os\n",
    "\n",
    "from nltk.corpus import stopwords\n",
    "import sumy\n",
    "from sumy.parsers.plaintext import PlaintextParser\n",
    "from sumy.nlp.tokenizers import Tokenizer\n",
    "from sumy.summarizers.lex_rank import LexRankSummarizer\n",
    "\n",
    "from sumy.nlp.stemmers import Stemmer\n",
    "from sumy.utils import get_stop_words"
   ]
  },
  {
   "cell_type": "code",
   "execution_count": 5,
   "id": "443517bb",
   "metadata": {},
   "outputs": [],
   "source": [
    "classes = os.listdir('BBC News Summary/BBC News Summary/News Articles/')\n",
    "art_dir = 'BBC News Summary/BBC News Summary/News Articles/'\n",
    "sum_dir = 'BBC News Summary/BBC News Summary/Summaries/'"
   ]
  },
  {
   "cell_type": "code",
   "execution_count": 6,
   "id": "23e63156",
   "metadata": {},
   "outputs": [
    {
     "data": {
      "text/html": [
       "<div>\n",
       "<style scoped>\n",
       "    .dataframe tbody tr th:only-of-type {\n",
       "        vertical-align: middle;\n",
       "    }\n",
       "\n",
       "    .dataframe tbody tr th {\n",
       "        vertical-align: top;\n",
       "    }\n",
       "\n",
       "    .dataframe thead th {\n",
       "        text-align: right;\n",
       "    }\n",
       "</style>\n",
       "<table border=\"1\" class=\"dataframe\">\n",
       "  <thead>\n",
       "    <tr style=\"text-align: right;\">\n",
       "      <th></th>\n",
       "      <th>File_path</th>\n",
       "      <th>Articles</th>\n",
       "      <th>Reference Summaries</th>\n",
       "    </tr>\n",
       "  </thead>\n",
       "  <tbody>\n",
       "    <tr>\n",
       "      <th>0</th>\n",
       "      <td>business/001.txt</td>\n",
       "      <td>Ad sales boost Time Warner profit..Quarterly p...</td>\n",
       "      <td>TimeWarner said fourth quarter sales rose 2% t...</td>\n",
       "    </tr>\n",
       "    <tr>\n",
       "      <th>1</th>\n",
       "      <td>business/002.txt</td>\n",
       "      <td>Dollar gains on Greenspan speech..The dollar h...</td>\n",
       "      <td>The dollar has hit its highest level against t...</td>\n",
       "    </tr>\n",
       "    <tr>\n",
       "      <th>2</th>\n",
       "      <td>business/003.txt</td>\n",
       "      <td>Yukos unit buyer faces loan claim..The owners ...</td>\n",
       "      <td>Yukos' owner Menatep Group says it will ask Ro...</td>\n",
       "    </tr>\n",
       "    <tr>\n",
       "      <th>3</th>\n",
       "      <td>business/004.txt</td>\n",
       "      <td>High fuel prices hit BA's profits..British Air...</td>\n",
       "      <td>Rod Eddington, BA's chief executive, said the ...</td>\n",
       "    </tr>\n",
       "    <tr>\n",
       "      <th>4</th>\n",
       "      <td>business/005.txt</td>\n",
       "      <td>Pernod takeover talk lifts Domecq..Shares in U...</td>\n",
       "      <td>Pernod has reduced the debt it took on to fund...</td>\n",
       "    </tr>\n",
       "  </tbody>\n",
       "</table>\n",
       "</div>"
      ],
      "text/plain": [
       "          File_path                                           Articles  \\\n",
       "0  business/001.txt  Ad sales boost Time Warner profit..Quarterly p...   \n",
       "1  business/002.txt  Dollar gains on Greenspan speech..The dollar h...   \n",
       "2  business/003.txt  Yukos unit buyer faces loan claim..The owners ...   \n",
       "3  business/004.txt  High fuel prices hit BA's profits..British Air...   \n",
       "4  business/005.txt  Pernod takeover talk lifts Domecq..Shares in U...   \n",
       "\n",
       "                                 Reference Summaries  \n",
       "0  TimeWarner said fourth quarter sales rose 2% t...  \n",
       "1  The dollar has hit its highest level against t...  \n",
       "2  Yukos' owner Menatep Group says it will ask Ro...  \n",
       "3  Rod Eddington, BA's chief executive, said the ...  \n",
       "4  Pernod has reduced the debt it took on to fund...  "
      ]
     },
     "execution_count": 6,
     "metadata": {},
     "output_type": "execute_result"
    }
   ],
   "source": [
    "articles = []\n",
    "summaries = []\n",
    "file_arr = []\n",
    "for cla in classes:\n",
    "    files = os.listdir(art_dir + cla)\n",
    "    for file in files:\n",
    "        article_file_path = art_dir + cla + '/' + file\n",
    "        summary_file_path = sum_dir + cla + '/' + file\n",
    "        try:\n",
    "            with open (article_file_path,'r') as f:\n",
    "                articles.append('.'.join([line.rstrip() for line in f.readlines()]))\n",
    "            with open (summary_file_path,'r') as f:\n",
    "                summaries.append('.'.join([line.rstrip() for line in f.readlines()]))\n",
    "            file_arr.append(cla + '/' + file)\n",
    "        except:\n",
    "            pass\n",
    "        \n",
    "df = pd.DataFrame({'File_path':file_arr,'Articles': articles,'Reference Summaries':summaries})\n",
    "df.head()"
   ]
  },
  {
   "cell_type": "code",
   "execution_count": 7,
   "id": "2c426b8d",
   "metadata": {},
   "outputs": [],
   "source": [
    "def summarize(text):     \n",
    "    SENTENCES_COUNT = 3\n",
    "    language = 'english'\n",
    "#LEXRANK stop word removal, tf-to-idf conversions, score calculations, and matrix generation for cosine similarity models\n",
    "    parser = PlaintextParser.from_string(text, Tokenizer(language))\n",
    "    stemmer = Stemmer(language)\n",
    "    summarizer = LexRankSummarizer(stemmer)\n",
    "    summarizer.stop_words = get_stop_words(language)\n",
    "    summary = []\n",
    "    for sentence in summarizer(parser.document, SENTENCES_COUNT):\n",
    "        summary.append(str(sentence))\n",
    "\n",
    "    return \" \".join(summary)"
   ]
  },
  {
   "cell_type": "code",
   "execution_count": 8,
   "id": "b921e71b",
   "metadata": {},
   "outputs": [
    {
     "data": {
      "text/html": [
       "<div>\n",
       "<style scoped>\n",
       "    .dataframe tbody tr th:only-of-type {\n",
       "        vertical-align: middle;\n",
       "    }\n",
       "\n",
       "    .dataframe tbody tr th {\n",
       "        vertical-align: top;\n",
       "    }\n",
       "\n",
       "    .dataframe thead th {\n",
       "        text-align: right;\n",
       "    }\n",
       "</style>\n",
       "<table border=\"1\" class=\"dataframe\">\n",
       "  <thead>\n",
       "    <tr style=\"text-align: right;\">\n",
       "      <th></th>\n",
       "      <th>File_path</th>\n",
       "      <th>Articles</th>\n",
       "      <th>Reference Summaries</th>\n",
       "      <th>Sumy Summary</th>\n",
       "    </tr>\n",
       "  </thead>\n",
       "  <tbody>\n",
       "    <tr>\n",
       "      <th>0</th>\n",
       "      <td>business/001.txt</td>\n",
       "      <td>Ad sales boost Time Warner profit..Quarterly p...</td>\n",
       "      <td>TimeWarner said fourth quarter sales rose 2% t...</td>\n",
       "      <td>Ad sales boost Time Warner profit..Quarterly p...</td>\n",
       "    </tr>\n",
       "    <tr>\n",
       "      <th>1</th>\n",
       "      <td>business/002.txt</td>\n",
       "      <td>Dollar gains on Greenspan speech..The dollar h...</td>\n",
       "      <td>The dollar has hit its highest level against t...</td>\n",
       "      <td>Dollar gains on Greenspan speech..The dollar h...</td>\n",
       "    </tr>\n",
       "    <tr>\n",
       "      <th>2</th>\n",
       "      <td>business/003.txt</td>\n",
       "      <td>Yukos unit buyer faces loan claim..The owners ...</td>\n",
       "      <td>Yukos' owner Menatep Group says it will ask Ro...</td>\n",
       "      <td>Yukos unit buyer faces loan claim..The owners ...</td>\n",
       "    </tr>\n",
       "    <tr>\n",
       "      <th>3</th>\n",
       "      <td>business/004.txt</td>\n",
       "      <td>High fuel prices hit BA's profits..British Air...</td>\n",
       "      <td>Rod Eddington, BA's chief executive, said the ...</td>\n",
       "      <td>BA's profits were still better than market exp...</td>\n",
       "    </tr>\n",
       "    <tr>\n",
       "      <th>4</th>\n",
       "      <td>business/005.txt</td>\n",
       "      <td>Pernod takeover talk lifts Domecq..Shares in U...</td>\n",
       "      <td>Pernod has reduced the debt it took on to fund...</td>\n",
       "      <td>Pernod takeover talk lifts Domecq..Shares in U...</td>\n",
       "    </tr>\n",
       "  </tbody>\n",
       "</table>\n",
       "</div>"
      ],
      "text/plain": [
       "          File_path                                           Articles  \\\n",
       "0  business/001.txt  Ad sales boost Time Warner profit..Quarterly p...   \n",
       "1  business/002.txt  Dollar gains on Greenspan speech..The dollar h...   \n",
       "2  business/003.txt  Yukos unit buyer faces loan claim..The owners ...   \n",
       "3  business/004.txt  High fuel prices hit BA's profits..British Air...   \n",
       "4  business/005.txt  Pernod takeover talk lifts Domecq..Shares in U...   \n",
       "\n",
       "                                 Reference Summaries  \\\n",
       "0  TimeWarner said fourth quarter sales rose 2% t...   \n",
       "1  The dollar has hit its highest level against t...   \n",
       "2  Yukos' owner Menatep Group says it will ask Ro...   \n",
       "3  Rod Eddington, BA's chief executive, said the ...   \n",
       "4  Pernod has reduced the debt it took on to fund...   \n",
       "\n",
       "                                        Sumy Summary  \n",
       "0  Ad sales boost Time Warner profit..Quarterly p...  \n",
       "1  Dollar gains on Greenspan speech..The dollar h...  \n",
       "2  Yukos unit buyer faces loan claim..The owners ...  \n",
       "3  BA's profits were still better than market exp...  \n",
       "4  Pernod takeover talk lifts Domecq..Shares in U...  "
      ]
     },
     "execution_count": 8,
     "metadata": {},
     "output_type": "execute_result"
    }
   ],
   "source": [
    "df[\"Sumy Summary\"] = df[\"Articles\"].apply(summarize)\n",
    "df.head()"
   ]
  },
  {
   "cell_type": "code",
   "execution_count": 9,
   "id": "f3e8d2a7",
   "metadata": {},
   "outputs": [
    {
     "data": {
      "text/plain": [
       "0       Ad sales boost Time Warner profit..Quarterly p...\n",
       "1       Dollar gains on Greenspan speech..The dollar h...\n",
       "2       Yukos unit buyer faces loan claim..The owners ...\n",
       "3       High fuel prices hit BA's profits..British Air...\n",
       "4       Pernod takeover talk lifts Domecq..Shares in U...\n",
       "                              ...                        \n",
       "2220    BT program to beat dialler scams..BT is introd...\n",
       "2221    Spam e-mails tempt net shoppers..Computer user...\n",
       "2222    Be careful how you code..A new European direct...\n",
       "2223    US cyber security chief resigns..The man makin...\n",
       "2224    Losing yourself in online gaming..Online role ...\n",
       "Name: Articles, Length: 2225, dtype: object"
      ]
     },
     "execution_count": 9,
     "metadata": {},
     "output_type": "execute_result"
    }
   ],
   "source": [
    "df['Articles']"
   ]
  },
  {
   "cell_type": "code",
   "execution_count": 10,
   "id": "7ffb7fba",
   "metadata": {},
   "outputs": [],
   "source": [
    "alldocs = df\n",
    "business = df.iloc[:510,:]\n",
    "entertainment = df.iloc[510:896,:]\n",
    "politics = df.iloc[896:1313,:]\n",
    "sport = df.iloc[1313:1824,:]\n",
    "tech = df.iloc[1824:]"
   ]
  },
  {
   "cell_type": "code",
   "execution_count": 20,
   "id": "3d461408",
   "metadata": {},
   "outputs": [
    {
     "data": {
      "text/plain": [
       "1668"
      ]
     },
     "execution_count": 20,
     "metadata": {},
     "output_type": "execute_result"
    }
   ],
   "source": [
    "len(business['Articles'][6])"
   ]
  },
  {
   "cell_type": "code",
   "execution_count": 21,
   "id": "91e5c560",
   "metadata": {},
   "outputs": [
    {
     "data": {
      "text/plain": [
       "547"
      ]
     },
     "execution_count": 21,
     "metadata": {},
     "output_type": "execute_result"
    }
   ],
   "source": [
    "len(business['Sumy Summary'][6])"
   ]
  },
  {
   "cell_type": "code",
   "execution_count": 13,
   "id": "8ad97dcb",
   "metadata": {},
   "outputs": [],
   "source": [
    "from rouge import Rouge"
   ]
  },
  {
   "cell_type": "code",
   "execution_count": 18,
   "id": "1d541dc2",
   "metadata": {},
   "outputs": [],
   "source": [
    "class rougetester:\n",
    "    def __init__(self,category):\n",
    "        rouge = Rouge()\n",
    "        self.scores = rouge.get_scores(category[\"Reference Summaries\"], category[\"Sumy Summary\"])\n",
    "        df_result = pd.DataFrame(self.scores)\n",
    "        \n",
    "    def calculate(self):\n",
    "        rouge_1 = { 'r': 0, 'p': 0, 'f': 0 }\n",
    "        rouge_2 = { 'r': 0, 'p': 0, 'f': 0 }\n",
    "        rouge_l = { 'r': 0, 'p': 0, 'f': 0 }\n",
    "        total_len = len(self.scores)\n",
    "        results = []\n",
    "\n",
    "        for score in self.scores:\n",
    "            rouge_1['r'] += score['rouge-1']['r']\n",
    "            rouge_1['p'] += score['rouge-1']['p']\n",
    "            rouge_1['f'] += score['rouge-1']['f']\n",
    "            rouge_2['r'] += score['rouge-2']['r']\n",
    "            rouge_2['p'] += score['rouge-2']['p']\n",
    "            rouge_2['f'] += score['rouge-2']['f']\n",
    "            rouge_l['r'] += score['rouge-l']['r']\n",
    "            rouge_l['p'] += score['rouge-l']['p']\n",
    "            rouge_l['f'] += score['rouge-l']['f']\n",
    "\n",
    "        for total_score in [rouge_1, rouge_2, rouge_l]:\n",
    "            for key in total_score:\n",
    "                total_score[key] = total_score[key] / total_len\n",
    "            results.append(total_score)\n",
    "\n",
    "        df_avg_result = pd.DataFrame({ 'rouge-1': results[0], 'rouge-2': results[1], 'rouge-l': results[2] })\n",
    "        print(df_avg_result.head())\n",
    "        print(\"---------------------------------\")\n",
    "\n"
   ]
  },
  {
   "cell_type": "code",
   "execution_count": 19,
   "id": "90916616",
   "metadata": {},
   "outputs": [
    {
     "name": "stdout",
     "output_type": "stream",
     "text": [
      "BUSINESS\n",
      "    rouge-1   rouge-2   rouge-l\n",
      "r  0.696415  0.593478  0.686719\n",
      "p  0.541075  0.431850  0.533879\n",
      "f  0.593722  0.482794  0.585664\n",
      "---------------------------------\n",
      "ENTERTAINMENT\n",
      "    rouge-1   rouge-2   rouge-l\n",
      "r  0.687092  0.581070  0.677291\n",
      "p  0.534250  0.428697  0.526647\n",
      "f  0.581348  0.472662  0.573030\n",
      "---------------------------------\n",
      "POLITICS\n",
      "    rouge-1   rouge-2   rouge-l\n",
      "r  0.733731  0.623941  0.722014\n",
      "p  0.472477  0.362401  0.465062\n",
      "f  0.558062  0.440733  0.549269\n",
      "---------------------------------\n",
      "SPORT\n",
      "    rouge-1   rouge-2   rouge-l\n",
      "r  0.707900  0.600565  0.698872\n",
      "p  0.503543  0.399796  0.496987\n",
      "f  0.563653  0.453316  0.556339\n",
      "---------------------------------\n",
      "TECH\n",
      "    rouge-1   rouge-2   rouge-l\n",
      "r  0.759541  0.644571  0.747873\n",
      "p  0.431689  0.318370  0.424964\n",
      "f  0.530401  0.406350  0.522215\n",
      "---------------------------------\n",
      "OVERALL\n",
      "    rouge-1   rouge-2   rouge-l\n",
      "r  0.715806  0.607871  0.705511\n",
      "p  0.498701  0.390474  0.491625\n",
      "f  0.566574  0.452606  0.558482\n",
      "---------------------------------\n"
     ]
    }
   ],
   "source": [
    "rgb = rougetester(business)\n",
    "rge = rougetester(entertainment)\n",
    "rgp = rougetester(politics)\n",
    "rgs = rougetester(sport)\n",
    "rgt = rougetester(tech)\n",
    "rgo = rougetester(alldocs)\n",
    "print(\"BUSINESS\")\n",
    "rgb.calculate()\n",
    "print(\"ENTERTAINMENT\")\n",
    "rge.calculate()\n",
    "print(\"POLITICS\")\n",
    "rgp.calculate()\n",
    "print(\"SPORT\")\n",
    "rgs.calculate()\n",
    "print(\"TECH\")\n",
    "rgt.calculate()\n",
    "print(\"OVERALL\")\n",
    "rgo.calculate()"
   ]
  },
  {
   "cell_type": "code",
   "execution_count": null,
   "id": "8fbc4a7c",
   "metadata": {},
   "outputs": [],
   "source": []
  }
 ],
 "metadata": {
  "kernelspec": {
   "display_name": "Python 3 (ipykernel)",
   "language": "python",
   "name": "python3"
  },
  "language_info": {
   "codemirror_mode": {
    "name": "ipython",
    "version": 3
   },
   "file_extension": ".py",
   "mimetype": "text/x-python",
   "name": "python",
   "nbconvert_exporter": "python",
   "pygments_lexer": "ipython3",
   "version": "3.9.7"
  }
 },
 "nbformat": 4,
 "nbformat_minor": 5
}
